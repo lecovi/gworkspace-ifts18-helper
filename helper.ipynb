{
 "cells": [
  {
   "cell_type": "markdown",
   "id": "632e6738-4451-475f-bd5e-6ca498e68b3b",
   "metadata": {},
   "source": [
    "# Creando un proyecto con las APIs de Google\n",
    "\n",
    "1. Crear un nuevo proyecto en la consola: console.google.com\n",
    "    1. En este caso se llama `gworskpace-ifts18-helper`\n",
    "2. Activar las APIs que necesitás usar en **API y servicios > API y servicios habilitados**:\n",
    "    1. En este caso: `Admin SDK API` en https://console.cloud.google.com/apis/library/admin.googleapis.com?authuser=0&orgonly=true&project=ambient-tuner-351923&supportedpurview=organizationId\n",
    "3. Crear credenciales en **API y servicios > Credenciales**::\n",
    "    1. Tipo de credencial: *Cuentas de Servicio*\n",
    "    2. Elegir un nombre: `GWorkspace IFTS18 Helper`\n",
    "    3. Automáticamente se crea un ID (lo podés cambiar, pero tiene sentido?): `gworkspace-ifts18-helper@fast-lattice-351622.iam.gserviceaccount.com`\n",
    "    4. Descripción: \"Helper para conectarse a la consola de Admin para administrar usuarios y grupos.\"\n",
    "4. Acceso al proyecto:\n",
    "    1. **Propietario**\n",
    "5. En **IAM y administración > Cuentas de servicio** seleccionar la Service Account creada anteriormente e ir al tab de **Claves**:\n",
    "    1. Ir a **Agregar Clave > Crear clave nueva**. Seleccionar **JSON** y descargar.\n",
    "    2. Copiar el ID de la Service Account en el tab de **Detalles** (algo tipo 117773917404707229602)\n",
    "6. Activar la delegación de dominio:\n",
    "    1. Ir a https://admin.google.com/ac/owl/domainwidedelegation\n",
    "    2. Copiar el ID y poner el SCOPE: `https://www.googleapis.com/auth/admin.directory.user`\n",
    "\n",
    "Ahora tenemos nuestro proyecto en Google y tenemos las credenciales para autenticarnos, podemos empezar a codear.\n",
    "\n",
    "# Instalando el ambiente\n",
    "\n",
    "1. Create un nuevo virtualenv, activalo y actualizá `pip`: `python -m venv venv && source venv/bin/activate.fish && python -m pip install --upgrade pip setuptools`\n",
    "2. Instalá *Jupyter Lab*: `python -m pip install jupyterlab`\n",
    "3. Instalá las \"Google libs\": `python -m pip install google-api-python-client google-auth-httplib2 google-auth-oauthlib`\n",
    "4. Creá un link simbólico que se llame `credentials.json` al JSON que tiene tus credenciales bajadas\n",
    "\n",
    "# Docs\n",
    "\n",
    "- [Using OAuth 2.0 to Access Google APIs](https://developers.google.com/identity/protocols/oauth2)\n",
    "    - [Scopes](https://developers.google.com/identity/protocols/oauth2/scopes) \n",
    "- [Python Quickstart Admin SDK](https://developers.google.com/admin-sdk/directory/v1/quickstart/python)\n",
    "- [Admin SDK REST Reference](https://developers.google.com/admin-sdk/directory/reference/rest)\n",
    "\n",
    "# Logueate con la API"
   ]
  },
  {
   "cell_type": "code",
   "execution_count": 1,
   "id": "d3f11fee-904e-4ea6-ae43-f2eff6f20493",
   "metadata": {},
   "outputs": [
    {
     "name": "stdout",
     "output_type": "stream",
     "text": [
      "67 users:\n",
      "agustin.sabia@alu.ifts18.edu.ar\n",
      "alan.baral@alu.ifts18.edu.ar\n",
      "alan.rolandria@alu.ifts18.edu.ar\n",
      "alberto.campagna@alu.ifts18.edu.ar\n",
      "augusto.luna@alu.ifts18.edu.ar\n",
      "camila.quispe@alu.ifts18.edu.ar\n",
      "carlos.choque@alu.ifts18.edu.ar\n",
      "carolina.bernachea@alu.ifts18.edu.ar\n",
      "dayana.bernal@alu.ifts18.edu.ar\n",
      "diego.benitez@alu.ifts18.edu.ar\n",
      "diego.gimenez@alu.ifts18.edu.ar\n",
      "eliana.aguilera@alu.ifts18.edu.ar\n",
      "elvio.vaca@alu.ifts18.edu.ar\n",
      "emanuel.odstrcil@alu.ifts18.edu.ar\n",
      "emiliano.palacios@alu.ifts18.edu.ar\n",
      "emir.gonzalez@alu.ifts18.edu.ar\n",
      "enzo.zeballos@alu.ifts18.edu.ar\n",
      "erick.krause@alu.ifts18.edu.ar\n",
      "fernanda.martinelli@alu.ifts18.edu.ar\n",
      "fernando.larosa@alu.ifts18.edu.ar\n",
      "fernando.warno@alu.ifts18.edu.ar\n",
      "flor.culqui@alu.ifts18.edu.ar\n",
      "florencia.valdez@alu.ifts18.edu.ar\n",
      "franco.alvarez@alu.ifts18.edu.ar\n",
      "franco.cesanelli@alu.ifts18.edu.ar\n",
      "franco.pirovano@alu.ifts18.edu.ar\n",
      "gabriel.paez@alu.ifts18.edu.ar\n",
      "gaston.cejas@alu.ifts18.edu.ar\n",
      "gonzalo.roget@alu.ifts18.edu.ar\n",
      "greta.liverotti@alu.ifts18.edu.ar\n",
      "gustavo.paez@alu.ifts18.edu.ar\n",
      "hector.herrera@alu.ifts18.edu.ar\n",
      "hugo.arrejin@alu.ifts18.edu.ar\n",
      "ivan.zuccolo@alu.ifts18.edu.ar\n",
      "jacqueline.rovagnati@alu.ifts18.edu.ar\n",
      "joanna.sakugawa@alu.ifts18.edu.ar\n",
      "josefina.pividori@alu.ifts18.edu.ar\n",
      "juan.abdala@alu.ifts18.edu.ar\n",
      "juan.eiriz@alu.ifts18.edu.ar\n",
      "julian.blacher@alu.ifts18.edu.ar\n",
      "julian.chas@alu.ifts18.edu.ar\n",
      "julian.pszonka@alu.ifts18.edu.ar\n",
      "leonardo.juchani@alu.ifts18.edu.ar\n",
      "lucas.hafner@alu.ifts18.edu.ar\n",
      "luis.cano@alu.ifts18.edu.ar\n",
      "manuel.jigena@alu.ifts18.edu.ar\n",
      "mariano.codutti@alu.ifts18.edu.ar\n",
      "mariano.ponte@alu.ifts18.edu.ar\n",
      "matias.pallante@alu.ifts18.edu.ar\n",
      "maximiliano.marchetti@alu.ifts18.edu.ar\n",
      "nadia.centanaro@alu.ifts18.edu.ar\n",
      "nahuel.cano@alu.ifts18.edu.ar\n",
      "nicolas.fernandezcarlavan@alu.ifts18.edu.ar\n",
      "noelia.paniagua@alu.ifts18.edu.ar\n",
      "pablo.dell@alu.ifts18.edu.ar\n",
      "pablo.gonzalez@alu.ifts18.edu.ar\n",
      "patricio.bertieri@alu.ifts18.edu.ar\n",
      "paula.dellachiesa@alu.ifts18.edu.ar\n",
      "rarmiro.fernandez@alu.ifts18.edu.ar\n",
      "ricardo.broggi@alu.ifts18.edu.ar\n",
      "rosa.rodriguez@alu.ifts18.edu.ar\n",
      "sebastian.melaro@alu.ifts18.edu.ar\n",
      "tamar.pereyra@alu.ifts18.edu.ar\n",
      "valeria.iacovone@alu.ifts18.edu.ar\n",
      "vanesa.soria@alu.ifts18.edu.ar\n",
      "victor.fernandez@alu.ifts18.edu.ar\n",
      "virginia.alfonzo@alu.ifts18.edu.ar\n"
     ]
    }
   ],
   "source": [
    "import json\n",
    "\n",
    "from google.oauth2 import service_account\n",
    "from googleapiclient.discovery import build\n",
    "\n",
    "SERVICE_ACCOUNT_FILE = 'credentials/credentials3.json'\n",
    "SCOPES = [\n",
    "    'https://www.googleapis.com/auth/admin.directory.user',\n",
    "    'https://www.googleapis.com/auth/gmail.compose', \n",
    "]\n",
    "\n",
    "\n",
    "service_account_info = json.load(open(SERVICE_ACCOUNT_FILE))\n",
    "\n",
    "credentials = service_account.Credentials.from_service_account_info(\n",
    "        service_account_info, scopes=SCOPES)\n",
    "\n",
    "SUBJECT = 'colomboleandro@ifts18.edu.ar'\n",
    "\n",
    "delegated_creds = credentials.with_subject(SUBJECT)\n",
    "\n",
    "admin_service = build('admin', 'directory_v1', credentials=delegated_creds)\n",
    "\n",
    "# Call the Admin SDK Users API\n",
    "results = admin_service.users().list(domain='alu.ifts18.edu.ar', maxResults=100,\n",
    "                                   orderBy='email').execute()\n",
    "users = results.get('users', [])\n",
    "\n",
    "if not users:\n",
    "    print('No users found.')\n",
    "else:\n",
    "    print(f'{len(users)} users:')\n",
    "    for user in users:\n",
    "        print(f'{user[\"primaryEmail\"]}')"
   ]
  },
  {
   "cell_type": "code",
   "execution_count": 2,
   "id": "6c383051-f09b-4eda-91fe-5b0d16a287b2",
   "metadata": {},
   "outputs": [],
   "source": [
    "import string\n",
    "import secrets\n",
    "\n",
    "def generate_password(length=10, digits=3):\n",
    "    \"\"\"Generate a ten-character alphanumeric password with at least one lowercase character, at least one uppercase character, and at least three digits.\n",
    "    \n",
    "    Example from Python Docs: https://docs.python.org/3/library/secrets.html\n",
    "    \"\"\"\n",
    "    alphabet = string.ascii_letters + string.digits\n",
    "    while True:\n",
    "        password = ''.join(secrets.choice(alphabet) for i in range(10))\n",
    "        if (any(c.islower() for c in password)\n",
    "                and any(c.isupper() for c in password)\n",
    "                and sum(c.isdigit() for c in password) >= 3):\n",
    "            break\n",
    "    return password"
   ]
  },
  {
   "cell_type": "code",
   "execution_count": 3,
   "id": "5bf93832-8872-474a-8dc8-fd1180cb7c6b",
   "metadata": {},
   "outputs": [],
   "source": [
    "def create_student_body(\n",
    "    student_firstname,\n",
    "    student_lastname,\n",
    "    student_email,\n",
    "    password=None,\n",
    "    email_domain=\"alu.ifts18.edu.ar\",\n",
    "    orgUnitPath=\"/Alumnos\",\n",
    "    **kwargs,\n",
    "):\n",
    "    if password is None:\n",
    "        # TODO: read kwargs and modify generate_password accordingly\n",
    "        generated_password = generate_password()\n",
    "    else:\n",
    "        generated_password = password\n",
    "\n",
    "    user = {\n",
    "        \"emails\": [\n",
    "            student_email,\n",
    "        ], \n",
    "        \"name\": {\n",
    "            \"familyName\": student_lastname.strip(),\n",
    "            \"givenName\": student_firstname.strip(),\n",
    "            \"fullName\": f\"{student_firstname} {student_lastname.strip()}\", \n",
    "        },\n",
    "        \"changePasswordAtNextLogin\": True,\n",
    "        \"primaryEmail\": f\"{student_firstname.split()[0].lower().strip()}.{student_lastname.strip().lower()}@{email_domain}\",\n",
    "        \"password\": generated_password,\n",
    "        \"orgUnitPath\": orgUnitPath,\n",
    "    }\n",
    "    return user"
   ]
  },
  {
   "cell_type": "code",
   "execution_count": 4,
   "id": "b1d0ff10-6f23-475b-aacc-049fe446622d",
   "metadata": {},
   "outputs": [],
   "source": [
    "import csv\n",
    "\n",
    "STUDENTS_DATA_FILE = \"assets/example.csv\"\n",
    "\n",
    "def read_students_csv(filename):\n",
    "    \"Reads Students CSV and returns a list of dicts with the students data\"\n",
    "    students = []\n",
    "    with open(filename) as csvfile:\n",
    "        studentreader = csv.DictReader(csvfile)\n",
    "        for student in studentreader:\n",
    "            students.append(student)\n",
    "    return students"
   ]
  },
  {
   "cell_type": "code",
   "execution_count": 5,
   "id": "5d409458-39f8-4e6d-9c92-91d71df66b21",
   "metadata": {},
   "outputs": [],
   "source": [
    "students = read_students_csv(STUDENTS_DATA_FILE)"
   ]
  },
  {
   "cell_type": "code",
   "execution_count": 6,
   "id": "7fcd953d-e3a3-48ee-9a2c-c738b3303859",
   "metadata": {},
   "outputs": [
    {
     "data": {
      "text/plain": [
       "[{'N°': '0',\n",
       "  'APELLIDO': 'Blanca',\n",
       "  'NOMBRE': 'Baltasar',\n",
       "  'DNI': '050-32-9548',\n",
       "  'MAIL': 'luisinafigueras@example.net'},\n",
       " {'N°': '1',\n",
       "  'APELLIDO': 'Espinosa',\n",
       "  'NOMBRE': 'Amaro',\n",
       "  'DNI': '384-34-6575',\n",
       "  'MAIL': 'toni03@example.net'},\n",
       " {'N°': '2',\n",
       "  'APELLIDO': 'Manuel',\n",
       "  'NOMBRE': 'Nicanor',\n",
       "  'DNI': '562-79-2386',\n",
       "  'MAIL': 'jose-luisromeu@example.org'},\n",
       " {'N°': '3',\n",
       "  'APELLIDO': 'Rosa',\n",
       "  'NOMBRE': 'Miguel Ángel',\n",
       "  'DNI': '230-01-3521',\n",
       "  'MAIL': 'tapiaestefania@example.com'},\n",
       " {'N°': '4',\n",
       "  'APELLIDO': 'Lorenzo',\n",
       "  'NOMBRE': 'Natalio',\n",
       "  'DNI': '108-10-2913',\n",
       "  'MAIL': 'fuentesjoaquin@example.net'},\n",
       " {'N°': '5',\n",
       "  'APELLIDO': 'Benavides',\n",
       "  'NOMBRE': 'Valentín',\n",
       "  'DNI': '458-44-7681',\n",
       "  'MAIL': 'marta09@example.net'},\n",
       " {'N°': '6',\n",
       "  'APELLIDO': 'Adadia',\n",
       "  'NOMBRE': 'Azahara',\n",
       "  'DNI': '974-20-7728',\n",
       "  'MAIL': 'varco@example.com'},\n",
       " {'N°': '7',\n",
       "  'APELLIDO': 'Roman',\n",
       "  'NOMBRE': 'Roque',\n",
       "  'DNI': '621-02-0831',\n",
       "  'MAIL': 'fcarnero@example.net'},\n",
       " {'N°': '8',\n",
       "  'APELLIDO': 'Rivas',\n",
       "  'NOMBRE': 'Anna',\n",
       "  'DNI': '706-23-6895',\n",
       "  'MAIL': 'mayolnilda@example.org'},\n",
       " {'N°': '9',\n",
       "  'APELLIDO': 'Adadia',\n",
       "  'NOMBRE': 'Darío',\n",
       "  'DNI': '930-43-7244',\n",
       "  'MAIL': 'montenegrosebastian@example.com'}]"
      ]
     },
     "execution_count": 6,
     "metadata": {},
     "output_type": "execute_result"
    }
   ],
   "source": [
    "students"
   ]
  },
  {
   "cell_type": "code",
   "execution_count": 7,
   "id": "8037a10a-0210-4d84-ab70-09611a6e506b",
   "metadata": {},
   "outputs": [
    {
     "data": {
      "text/plain": [
       "{'emails': ['luisinafigueras@example.net'],\n",
       " 'name': {'familyName': 'Blanca',\n",
       "  'givenName': 'Baltasar',\n",
       "  'fullName': 'Baltasar Blanca'},\n",
       " 'changePasswordAtNextLogin': True,\n",
       " 'primaryEmail': 'baltasar.blanca@alu.ifts18.edu.ar',\n",
       " 'password': 'mE4ic93Afm',\n",
       " 'orgUnitPath': '/Alumnos'}"
      ]
     },
     "execution_count": 7,
     "metadata": {},
     "output_type": "execute_result"
    }
   ],
   "source": [
    "user = create_student_body(students[0][\"NOMBRE\"], students[0][\"APELLIDO\"], students[0][\"MAIL\"])\n",
    "user"
   ]
  },
  {
   "cell_type": "code",
   "execution_count": 8,
   "id": "a9ffa256-11eb-4507-a3ce-4bf071be2750",
   "metadata": {},
   "outputs": [
    {
     "data": {
      "text/plain": [
       "{'kind': 'admin#directory#user',\n",
       " 'id': '109568668775128004766',\n",
       " 'etag': '\"Ap9BCC4uRt3h_SrDO0G_EX9zYVZwuEfjT_jX812ihkE/24cFv6aTti5xQvewiRQId5YmoP4\"',\n",
       " 'primaryEmail': 'baltasar.blanca@alu.ifts18.edu.ar',\n",
       " 'name': {'givenName': 'Baltasar',\n",
       "  'familyName': 'Blanca',\n",
       "  'fullName': 'Baltasar Blanca'},\n",
       " 'isAdmin': False,\n",
       " 'isDelegatedAdmin': False,\n",
       " 'creationTime': '2022-06-23T13:27:35.000Z',\n",
       " 'changePasswordAtNextLogin': True,\n",
       " 'customerId': 'C02zkxcvl',\n",
       " 'orgUnitPath': '/Alumnos',\n",
       " 'isMailboxSetup': False}"
      ]
     },
     "execution_count": 8,
     "metadata": {},
     "output_type": "execute_result"
    }
   ],
   "source": [
    "result = admin_service.users().insert(body=user).execute()\n",
    "result"
   ]
  },
  {
   "cell_type": "code",
   "execution_count": 9,
   "id": "733c91fb-f96c-4ae3-98c3-b0f5ac7d7298",
   "metadata": {},
   "outputs": [],
   "source": [
    "import base64\n",
    "\n",
    "from email.message import EmailMessage\n",
    "\n",
    "\n",
    "SUBJECT = 'inscripciones@ifts18.edu.ar'\n",
    "\n",
    "delegated_creds = credentials.with_subject(SUBJECT)\n",
    "\n",
    "gmail_service = build('gmail', 'v1', credentials=delegated_creds)\n",
    "\n",
    "message = EmailMessage()\n",
    "message.set_content('This is automated mail with Reply-To header for Leandro Colombo Viña. x3')\n",
    "# email headers\n",
    "message['To'] = 'Leo Colombo Viña <colomboleandro@gmail.com>'\n",
    "message['From'] = '\"Inscripciones IFTS18\" <inscripciones@ifts18.edu.ar>'\n",
    "message['Reply-To'] = 'no-reply@ifts18.edu.ar'\n",
    "message['Subject'] = 'Your new IFTS18 student email account is created - No Reply'\n",
    "\n",
    "# encoded message\n",
    "encoded_message = base64.urlsafe_b64encode(message.as_bytes()).decode()\n",
    "\n",
    "create_message = {\n",
    "    'raw': encoded_message,\n",
    "}"
   ]
  },
  {
   "cell_type": "code",
   "execution_count": 10,
   "id": "153a2897-e528-4c4e-85e5-758ebca25e48",
   "metadata": {},
   "outputs": [
    {
     "data": {
      "text/plain": [
       "'Content-Type: text/plain; charset=\"utf-8\"\\nContent-Transfer-Encoding: base64\\nMIME-Version: 1.0\\nTo: Leo Colombo =?utf-8?q?Vi=C3=B1a?= <colomboleandro@gmail.com>\\nFrom: \"Inscripciones IFTS18\" <inscripciones@ifts18.edu.ar>\\nReply-To: no-reply@ifts18.edu.ar\\nSubject: Your new IFTS18 student email account is created - No Reply\\n\\nVGhpcyBpcyBhdXRvbWF0ZWQgbWFpbCB3aXRoIFJlcGx5LVRvIGhlYWRlciBmb3IgTGVhbmRybyBD\\nb2xvbWJvIFZpw7FhLiB4Mwo=\\n'"
      ]
     },
     "execution_count": 10,
     "metadata": {},
     "output_type": "execute_result"
    }
   ],
   "source": [
    "message.as_string()"
   ]
  },
  {
   "cell_type": "code",
   "execution_count": 11,
   "id": "d246f7e0-e152-49ee-9950-542c317c3197",
   "metadata": {},
   "outputs": [],
   "source": [
    "# pylint: disable=E1101\n",
    "send_message = gmail_service.users().messages().send(\n",
    "    userId=\"me\",\n",
    "    body=create_message\n",
    ").execute()"
   ]
  },
  {
   "cell_type": "code",
   "execution_count": 12,
   "id": "0377c255-ca42-46f4-bcdf-8a7e378d830c",
   "metadata": {},
   "outputs": [
    {
     "data": {
      "text/plain": [
       "{'id': '18190bf6a0009a69',\n",
       " 'threadId': '18190bf6a0009a69',\n",
       " 'labelIds': ['SENT']}"
      ]
     },
     "execution_count": 12,
     "metadata": {},
     "output_type": "execute_result"
    }
   ],
   "source": [
    "send_message"
   ]
  },
  {
   "cell_type": "markdown",
   "id": "1bb9585e-9206-438b-8b99-7acae880de4d",
   "metadata": {},
   "source": [
    "# Con archivos Adjuntos"
   ]
  },
  {
   "cell_type": "markdown",
   "id": "1e68f1a3-a8df-4782-b022-1a195b9b6915",
   "metadata": {},
   "source": [
    "## Imágenes (JPG)"
   ]
  },
  {
   "cell_type": "code",
   "execution_count": 217,
   "id": "340b751c-a4b5-4979-88d4-04111661daf5",
   "metadata": {},
   "outputs": [
    {
     "name": "stdout",
     "output_type": "stream",
     "text": [
      "MIME Type detected: application/pdf\n"
     ]
    }
   ],
   "source": [
    "import base64\n",
    "import mimetypes\n",
    "from email.message import EmailMessage\n",
    "\n",
    "\n",
    "SUBJECT = 'inscripciones@ifts18.edu.ar'\n",
    "\n",
    "delegated_creds = credentials.with_subject(SUBJECT)\n",
    "\n",
    "gmail_service = build('gmail', 'v1', credentials=delegated_creds)\n",
    "\n",
    "attachment_filename = 'assets/doc.pdf'\n",
    "maintype, subtype = mimetypes.guess_type(attachment_filename)[0].split('/')\n",
    "print(f\"MIME Type detected: {maintype}/{subtype}\")\n",
    "\n",
    "message = EmailMessage()\n",
    "message.set_content(f'This is automated mail with Reply-To header for Leandro Colombo Viña with a {maintype}/{subtype} attached!')\n",
    "# email headers\n",
    "message['To'] = 'Leo Colombo Viña <colomboleandro@gmail.com>'\n",
    "message['From'] = '\"Inscripciones IFTS18\" <inscripciones@ifts18.edu.ar>'\n",
    "message['Reply-To'] = 'no-reply@ifts18.edu.ar'\n",
    "message['Subject'] = f'Your new IFTS18 student email account is created - No Reply - {maintype}/{subtype}'\n",
    "\n",
    "with open(attachment_filename, 'rb') as fp:\n",
    "    attachment_data = fp.read()\n",
    "message.add_attachment(attachment_data, maintype=maintype, subtype=subtype)\n",
    "\n",
    "# encoded message\n",
    "encoded_message = base64.urlsafe_b64encode(message.as_bytes()).decode()\n",
    "\n",
    "create_message = {\n",
    "    'raw': encoded_message,\n",
    "}"
   ]
  },
  {
   "cell_type": "code",
   "execution_count": 218,
   "id": "f4e6be1f-d16d-4831-973d-c407fd2e11e5",
   "metadata": {},
   "outputs": [],
   "source": [
    "# pylint: disable=E1101\n",
    "send_message = gmail_service.users().messages().send(\n",
    "    userId=\"me\",\n",
    "    body=create_message\n",
    ").execute()"
   ]
  },
  {
   "cell_type": "markdown",
   "id": "d24b9fc4-def2-4334-9d5d-e266ea3af996",
   "metadata": {},
   "source": [
    "# Probando Logs"
   ]
  },
  {
   "cell_type": "code",
   "execution_count": 13,
   "id": "d0517e36-e94f-4b69-ba45-45a030b1596b",
   "metadata": {},
   "outputs": [],
   "source": [
    "LOGFILE = 'accounts.json'\n",
    "\n",
    "with open(LOGFILE) as f:\n",
    "    data = json.load(f)\n",
    "    "
   ]
  },
  {
   "cell_type": "code",
   "execution_count": 14,
   "id": "d7013738-6139-41bd-ac24-78081e0d82cf",
   "metadata": {},
   "outputs": [],
   "source": [
    "mails = [student['user']['primaryEmail'] for student in data]"
   ]
  },
  {
   "cell_type": "code",
   "execution_count": 16,
   "id": "1f705e7f-0c5b-4f2c-a085-f9d51f0e26ab",
   "metadata": {},
   "outputs": [
    {
     "name": "stdout",
     "output_type": "stream",
     "text": [
      "[{'N°': 0, 'APELLIDO': 'Requena', 'NOMBRE': 'Adelia', 'DNI': '499-87-1823', 'MAIL': 'danielcarranza@example.org'}, {'N°': 1, 'APELLIDO': 'Garzón', 'NOMBRE': 'Gonzalo', 'DNI': '621-36-9759', 'MAIL': 'acevedotrini@example.net'}, {'N°': 2, 'APELLIDO': 'Valenciano', 'NOMBRE': 'Adelaida', 'DNI': '747-96-8324', 'MAIL': 'tellezamaro@example.net'}, {'N°': 3, 'APELLIDO': 'Méndez', 'NOMBRE': 'Espiridión', 'DNI': '216-22-9988', 'MAIL': 'vanesa18@example.org'}, {'N°': 4, 'APELLIDO': 'Céspedes', 'NOMBRE': 'Carlito', 'DNI': '975-60-9188', 'MAIL': 'igras@example.com'}, {'N°': 5, 'APELLIDO': 'Campillo', 'NOMBRE': 'Edmundo', 'DNI': '214-19-4165', 'MAIL': 'chema82@example.com'}, {'N°': 6, 'APELLIDO': 'Fuertes', 'NOMBRE': 'María Pilar', 'DNI': '173-75-9655', 'MAIL': 'sorianozaida@example.net'}, {'N°': 7, 'APELLIDO': 'Pastor', 'NOMBRE': 'Javi', 'DNI': '326-73-9796', 'MAIL': 'elorzaruth@example.net'}, {'N°': 8, 'APELLIDO': 'Morante', 'NOMBRE': 'Emigdio', 'DNI': '328-81-3787', 'MAIL': 'goicoecheapepito@example.org'}, {'N°': 9, 'APELLIDO': 'Abril', 'NOMBRE': 'Urbano', 'DNI': '848-33-6801', 'MAIL': 'humbertoalvarez@example.org'}]\n"
     ]
    }
   ],
   "source": [
    "from faker import Faker\n",
    "\n",
    "fake = Faker('es')\n",
    "\n",
    "students = []\n",
    "examples = 10\n",
    "\n",
    "for i in range(examples):\n",
    "    students.append(\n",
    "        {\n",
    "            \"N°\": i,\n",
    "            \"APELLIDO\": fake.last_name(),\n",
    "            \"NOMBRE\": fake.first_name(),\n",
    "            \"DNI\": fake.ssn(),\n",
    "            \"MAIL\": fake.email(),\n",
    "        }\n",
    "    )\n",
    "print(students)"
   ]
  },
  {
   "cell_type": "code",
   "execution_count": 17,
   "id": "5d198a0b-c626-4133-953b-13e131c1455d",
   "metadata": {},
   "outputs": [],
   "source": [
    "filename_path = \"assets/example.csv\"\n",
    "\n",
    "with open(filename_path, \"w\") as fd:\n",
    "        studentwriter = csv.DictWriter(fd, fieldnames=students[0].keys())\n",
    "        studentwriter.writeheader()\n",
    "        for student in students:\n",
    "            studentwriter.writerow(student)"
   ]
  }
 ],
 "metadata": {
  "kernelspec": {
   "display_name": "Python 3 (ipykernel)",
   "language": "python",
   "name": "python3"
  },
  "language_info": {
   "codemirror_mode": {
    "name": "ipython",
    "version": 3
   },
   "file_extension": ".py",
   "mimetype": "text/x-python",
   "name": "python",
   "nbconvert_exporter": "python",
   "pygments_lexer": "ipython3",
   "version": "3.10.5"
  }
 },
 "nbformat": 4,
 "nbformat_minor": 5
}
